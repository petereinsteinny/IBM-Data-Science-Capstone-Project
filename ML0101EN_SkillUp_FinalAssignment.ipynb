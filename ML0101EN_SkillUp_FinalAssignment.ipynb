{
 "cells": [
  {
   "cell_type": "markdown",
   "metadata": {},
   "source": [
    "<p style=\"text-align:center\">\n",
    "    <a href=\"https://skills.network/?utm_medium=Exinfluencer&utm_source=Exinfluencer&utm_content=000026UJ&utm_term=10006555&utm_id=NA-SkillsNetwork-Channel-SkillsNetworkCoursesIBMDeveloperSkillsNetworkML0101ENSkillsNetwork20718538-2022-01-01\" target=\"_blank\">\n",
    "    <img src=\"https://cf-courses-data.s3.us.cloud-object-storage.appdomain.cloud/assets/logos/SN_web_lightmode.png\" width=\"200\" alt=\"Skills Network Logo\"  />\n",
    "    </a>\n",
    "</p>\n",
    "\n",
    "<h1 align=\"center\"><font size=\"5\">Final Project: Classification with Python</font></h1>\n"
   ]
  },
  {
   "cell_type": "markdown",
   "metadata": {},
   "source": [
    "<h2>Table of Contents</h2>\n",
    "<div class=\"alert alert-block alert-info\" style=\"margin-top: 20px\">\n",
    "    <ul>\n",
    "    <li><a href=\"https://#Section_1\">Instructions</a></li>\n",
    "    <li><a href=\"https://#Section_2\">About the Data</a></li>\n",
    "    <li><a href=\"https://#Section_3\">Importing Data </a></li>\n",
    "    <li><a href=\"https://#Section_4\">Data Preprocessing</a> </li>\n",
    "    <li><a href=\"https://#Section_5\">Transforming Categorical Variables </a></li>\n",
    "    <li><a href=\"https://#Section_6\">Train and Test Data Split </a></li>\n",
    "    <li><a href=\"https://#Section_7\">Train Linear Regression, KNN, Decision Tree, Logistic Regression, and SVM models and return their appropriate accuracy scores</a></li>\n",
    "</a></li>\n",
    "</div>\n",
    "<p>Estimated Time Needed: <strong>180 min</strong></p>\n",
    "</div>\n",
    "\n",
    "<hr>\n"
   ]
  },
  {
   "cell_type": "markdown",
   "metadata": {},
   "source": [
    "# Instructions\n"
   ]
  },
  {
   "cell_type": "markdown",
   "metadata": {},
   "source": [
    "In this notebook, you will  practice all the classification algorithms that we learned in this course.\n",
    "\n",
    "After completing this notebook, you will need to upload it to the \"Submit Your Work and Review Your Peers\" section of the Final Project module.\n",
    "\n",
    "Below, is where we are going to use the classification algorithms to create a model based on our training data and evaluate our testing data using evaluation metrics learned in the course.\n",
    "\n",
    "We will use some of the algorithms taught in the course, specifically:\n",
    "\n",
    "1.  Linear Regression\n",
    "2.  KNN\n",
    "3.  Decision Trees\n",
    "4.  Logistic Regression\n",
    "5.  SVM\n",
    "\n",
    "We will evaluate our models using:\n",
    "\n",
    "1.  Accuracy Score\n",
    "2.  Jaccard Index\n",
    "3.  F1-Score\n",
    "4.  LogLoss\n",
    "5.  Mean Absolute Error\n",
    "6.  Mean Squared Error\n",
    "7.  R2-Score\n",
    "\n",
    "Finally, you will use your models to generate the report displaying the accuracy scores.\n"
   ]
  },
  {
   "cell_type": "markdown",
   "metadata": {},
   "source": [
    "# About The Dataset\n"
   ]
  },
  {
   "cell_type": "markdown",
   "metadata": {},
   "source": [
    "The original source of the data is Australian Government's Bureau of Meteorology and the latest data can be gathered from [http://www.bom.gov.au/climate/dwo/](http://www.bom.gov.au/climate/dwo/?utm_medium=Exinfluencer&utm_source=Exinfluencer&utm_content=000026UJ&utm_term=10006555&utm_id=NA-SkillsNetwork-Channel-SkillsNetworkCoursesIBMDeveloperSkillsNetworkML0101ENSkillsNetwork20718538-2022-01-01).\n",
    "\n",
    "The dataset to be used has extra columns like 'RainToday' and our target is 'RainTomorrow', which was gathered from the Rattle at [https://bitbucket.org/kayontoga/rattle/src/master/data/weatherAUS.RData](https://bitbucket.org/kayontoga/rattle/src/master/data/weatherAUS.RData?utm_medium=Exinfluencer&utm_source=Exinfluencer&utm_content=000026UJ&utm_term=10006555&utm_id=NA-SkillsNetwork-Channel-SkillsNetworkCoursesIBMDeveloperSkillsNetworkML0101ENSkillsNetwork20718538-2022-01-01)\n"
   ]
  },
  {
   "cell_type": "markdown",
   "metadata": {},
   "source": [
    "This dataset contains observations of weather metrics for each day from 2008 to 2017. The **weatherAUS.csv** dataset includes the following fields:\n",
    "\n",
    "| Field         | Description                                           | Unit            | Type   |\n",
    "| ------------- | ----------------------------------------------------- | --------------- | ------ |\n",
    "| Date          | Date of the Observation in YYYY-MM-DD                 | Date            | object |\n",
    "| Location      | Location of the Observation                           | Location        | object |\n",
    "| MinTemp       | Minimum temperature                                   | Celsius         | float  |\n",
    "| MaxTemp       | Maximum temperature                                   | Celsius         | float  |\n",
    "| Rainfall      | Amount of rainfall                                    | Millimeters     | float  |\n",
    "| Evaporation   | Amount of evaporation                                 | Millimeters     | float  |\n",
    "| Sunshine      | Amount of bright sunshine                             | hours           | float  |\n",
    "| WindGustDir   | Direction of the strongest gust                       | Compass Points  | object |\n",
    "| WindGustSpeed | Speed of the strongest gust                           | Kilometers/Hour | object |\n",
    "| WindDir9am    | Wind direction averaged of 10 minutes prior to 9am    | Compass Points  | object |\n",
    "| WindDir3pm    | Wind direction averaged of 10 minutes prior to 3pm    | Compass Points  | object |\n",
    "| WindSpeed9am  | Wind speed averaged of 10 minutes prior to 9am        | Kilometers/Hour | float  |\n",
    "| WindSpeed3pm  | Wind speed averaged of 10 minutes prior to 3pm        | Kilometers/Hour | float  |\n",
    "| Humidity9am   | Humidity at 9am                                       | Percent         | float  |\n",
    "| Humidity3pm   | Humidity at 3pm                                       | Percent         | float  |\n",
    "| Pressure9am   | Atmospheric pressure reduced to mean sea level at 9am | Hectopascal     | float  |\n",
    "| Pressure3pm   | Atmospheric pressure reduced to mean sea level at 3pm | Hectopascal     | float  |\n",
    "| Cloud9am      | Fraction of the sky obscured by cloud at 9am          | Eights          | float  |\n",
    "| Cloud3pm      | Fraction of the sky obscured by cloud at 3pm          | Eights          | float  |\n",
    "| Temp9am       | Temperature at 9am                                    | Celsius         | float  |\n",
    "| Temp3pm       | Temperature at 3pm                                    | Celsius         | float  |\n",
    "| RainToday     | If there was rain today                               | Yes/No          | object |\n",
    "| RISK_MM       | Amount of rain tomorrow                               | Millimeters     | float  |\n",
    "| RainTomorrow  | If there is rain tomorrow                             | Yes/No          | float  |\n",
    "\n",
    "Column definitions were gathered from [http://www.bom.gov.au/climate/dwo/IDCJDW0000.shtml](http://www.bom.gov.au/climate/dwo/IDCJDW0000.shtml?utm_medium=Exinfluencer&utm_source=Exinfluencer&utm_content=000026UJ&utm_term=10006555&utm_id=NA-SkillsNetwork-Channel-SkillsNetworkCoursesIBMDeveloperSkillsNetworkML0101ENSkillsNetwork20718538-2022-01-01)\n"
   ]
  },
  {
   "cell_type": "markdown",
   "metadata": {},
   "source": [
    "## **Import the required libraries**\n"
   ]
  },
  {
   "cell_type": "code",
   "execution_count": 1,
   "metadata": {},
   "outputs": [],
   "source": [
    "# Surpress warnings:\n",
    "def warn(*args, **kwargs):\n",
    "    pass\n",
    "import warnings\n",
    "warnings.warn = warn"
   ]
  },
  {
   "cell_type": "code",
   "execution_count": 2,
   "metadata": {},
   "outputs": [],
   "source": [
    "import pandas as pd\n",
    "from sklearn.linear_model import LogisticRegression\n",
    "from sklearn.linear_model import LinearRegression\n",
    "from sklearn import preprocessing\n",
    "import numpy as np\n",
    "from sklearn.neighbors import KNeighborsClassifier\n",
    "from sklearn.model_selection import GridSearchCV\n",
    "from sklearn.model_selection import train_test_split\n",
    "from sklearn.neighbors import KNeighborsClassifier\n",
    "from sklearn.tree import DecisionTreeClassifier\n",
    "from sklearn import svm\n",
    "from sklearn.metrics import jaccard_score\n",
    "from sklearn.metrics import f1_score\n",
    "from sklearn.metrics import log_loss\n",
    "import matplotlib.pyplot as plt\n",
    "from sklearn.metrics import confusion_matrix, accuracy_score\n",
    "import sklearn.metrics as metrics"
   ]
  },
  {
   "cell_type": "markdown",
   "metadata": {},
   "source": [
    "### Importing the Dataset\n"
   ]
  },
  {
   "cell_type": "code",
   "execution_count": 3,
   "metadata": {},
   "outputs": [
    {
     "data": {
      "text/html": [
       "<div>\n",
       "<style scoped>\n",
       "    .dataframe tbody tr th:only-of-type {\n",
       "        vertical-align: middle;\n",
       "    }\n",
       "\n",
       "    .dataframe tbody tr th {\n",
       "        vertical-align: top;\n",
       "    }\n",
       "\n",
       "    .dataframe thead th {\n",
       "        text-align: right;\n",
       "    }\n",
       "</style>\n",
       "<table border=\"1\" class=\"dataframe\">\n",
       "  <thead>\n",
       "    <tr style=\"text-align: right;\">\n",
       "      <th></th>\n",
       "      <th>Date</th>\n",
       "      <th>MinTemp</th>\n",
       "      <th>MaxTemp</th>\n",
       "      <th>Rainfall</th>\n",
       "      <th>Evaporation</th>\n",
       "      <th>Sunshine</th>\n",
       "      <th>WindGustDir</th>\n",
       "      <th>WindGustSpeed</th>\n",
       "      <th>WindDir9am</th>\n",
       "      <th>WindDir3pm</th>\n",
       "      <th>...</th>\n",
       "      <th>Humidity9am</th>\n",
       "      <th>Humidity3pm</th>\n",
       "      <th>Pressure9am</th>\n",
       "      <th>Pressure3pm</th>\n",
       "      <th>Cloud9am</th>\n",
       "      <th>Cloud3pm</th>\n",
       "      <th>Temp9am</th>\n",
       "      <th>Temp3pm</th>\n",
       "      <th>RainToday</th>\n",
       "      <th>RainTomorrow</th>\n",
       "    </tr>\n",
       "  </thead>\n",
       "  <tbody>\n",
       "    <tr>\n",
       "      <th>0</th>\n",
       "      <td>2/1/2008</td>\n",
       "      <td>19.5</td>\n",
       "      <td>22.4</td>\n",
       "      <td>15.6</td>\n",
       "      <td>6.2</td>\n",
       "      <td>0.0</td>\n",
       "      <td>W</td>\n",
       "      <td>41</td>\n",
       "      <td>S</td>\n",
       "      <td>SSW</td>\n",
       "      <td>...</td>\n",
       "      <td>92</td>\n",
       "      <td>84</td>\n",
       "      <td>1017.6</td>\n",
       "      <td>1017.4</td>\n",
       "      <td>8</td>\n",
       "      <td>8</td>\n",
       "      <td>20.7</td>\n",
       "      <td>20.9</td>\n",
       "      <td>Yes</td>\n",
       "      <td>Yes</td>\n",
       "    </tr>\n",
       "    <tr>\n",
       "      <th>1</th>\n",
       "      <td>2/2/2008</td>\n",
       "      <td>19.5</td>\n",
       "      <td>25.6</td>\n",
       "      <td>6.0</td>\n",
       "      <td>3.4</td>\n",
       "      <td>2.7</td>\n",
       "      <td>W</td>\n",
       "      <td>41</td>\n",
       "      <td>W</td>\n",
       "      <td>E</td>\n",
       "      <td>...</td>\n",
       "      <td>83</td>\n",
       "      <td>73</td>\n",
       "      <td>1017.9</td>\n",
       "      <td>1016.4</td>\n",
       "      <td>7</td>\n",
       "      <td>7</td>\n",
       "      <td>22.4</td>\n",
       "      <td>24.8</td>\n",
       "      <td>Yes</td>\n",
       "      <td>Yes</td>\n",
       "    </tr>\n",
       "    <tr>\n",
       "      <th>2</th>\n",
       "      <td>2/3/2008</td>\n",
       "      <td>21.6</td>\n",
       "      <td>24.5</td>\n",
       "      <td>6.6</td>\n",
       "      <td>2.4</td>\n",
       "      <td>0.1</td>\n",
       "      <td>W</td>\n",
       "      <td>41</td>\n",
       "      <td>ESE</td>\n",
       "      <td>ESE</td>\n",
       "      <td>...</td>\n",
       "      <td>88</td>\n",
       "      <td>86</td>\n",
       "      <td>1016.7</td>\n",
       "      <td>1015.6</td>\n",
       "      <td>7</td>\n",
       "      <td>8</td>\n",
       "      <td>23.5</td>\n",
       "      <td>23.0</td>\n",
       "      <td>Yes</td>\n",
       "      <td>Yes</td>\n",
       "    </tr>\n",
       "    <tr>\n",
       "      <th>3</th>\n",
       "      <td>2/4/2008</td>\n",
       "      <td>20.2</td>\n",
       "      <td>22.8</td>\n",
       "      <td>18.8</td>\n",
       "      <td>2.2</td>\n",
       "      <td>0.0</td>\n",
       "      <td>W</td>\n",
       "      <td>41</td>\n",
       "      <td>NNE</td>\n",
       "      <td>E</td>\n",
       "      <td>...</td>\n",
       "      <td>83</td>\n",
       "      <td>90</td>\n",
       "      <td>1014.2</td>\n",
       "      <td>1011.8</td>\n",
       "      <td>8</td>\n",
       "      <td>8</td>\n",
       "      <td>21.4</td>\n",
       "      <td>20.9</td>\n",
       "      <td>Yes</td>\n",
       "      <td>Yes</td>\n",
       "    </tr>\n",
       "    <tr>\n",
       "      <th>4</th>\n",
       "      <td>2/5/2008</td>\n",
       "      <td>19.7</td>\n",
       "      <td>25.7</td>\n",
       "      <td>77.4</td>\n",
       "      <td>4.8</td>\n",
       "      <td>0.0</td>\n",
       "      <td>W</td>\n",
       "      <td>41</td>\n",
       "      <td>NNE</td>\n",
       "      <td>W</td>\n",
       "      <td>...</td>\n",
       "      <td>88</td>\n",
       "      <td>74</td>\n",
       "      <td>1008.3</td>\n",
       "      <td>1004.8</td>\n",
       "      <td>8</td>\n",
       "      <td>8</td>\n",
       "      <td>22.5</td>\n",
       "      <td>25.5</td>\n",
       "      <td>Yes</td>\n",
       "      <td>Yes</td>\n",
       "    </tr>\n",
       "  </tbody>\n",
       "</table>\n",
       "<p>5 rows × 22 columns</p>\n",
       "</div>"
      ],
      "text/plain": [
       "       Date  MinTemp  MaxTemp  Rainfall  Evaporation  Sunshine WindGustDir  \\\n",
       "0  2/1/2008     19.5     22.4      15.6          6.2       0.0           W   \n",
       "1  2/2/2008     19.5     25.6       6.0          3.4       2.7           W   \n",
       "2  2/3/2008     21.6     24.5       6.6          2.4       0.1           W   \n",
       "3  2/4/2008     20.2     22.8      18.8          2.2       0.0           W   \n",
       "4  2/5/2008     19.7     25.7      77.4          4.8       0.0           W   \n",
       "\n",
       "   WindGustSpeed WindDir9am WindDir3pm  ...  Humidity9am  Humidity3pm  \\\n",
       "0             41          S        SSW  ...           92           84   \n",
       "1             41          W          E  ...           83           73   \n",
       "2             41        ESE        ESE  ...           88           86   \n",
       "3             41        NNE          E  ...           83           90   \n",
       "4             41        NNE          W  ...           88           74   \n",
       "\n",
       "   Pressure9am  Pressure3pm  Cloud9am  Cloud3pm  Temp9am  Temp3pm  RainToday  \\\n",
       "0       1017.6       1017.4         8         8     20.7     20.9        Yes   \n",
       "1       1017.9       1016.4         7         7     22.4     24.8        Yes   \n",
       "2       1016.7       1015.6         7         8     23.5     23.0        Yes   \n",
       "3       1014.2       1011.8         8         8     21.4     20.9        Yes   \n",
       "4       1008.3       1004.8         8         8     22.5     25.5        Yes   \n",
       "\n",
       "   RainTomorrow  \n",
       "0           Yes  \n",
       "1           Yes  \n",
       "2           Yes  \n",
       "3           Yes  \n",
       "4           Yes  \n",
       "\n",
       "[5 rows x 22 columns]"
      ]
     },
     "execution_count": 3,
     "metadata": {},
     "output_type": "execute_result"
    }
   ],
   "source": [
    "df = pd.read_csv('https://cf-courses-data.s3.us.cloud-object-storage.appdomain.cloud/IBMDeveloperSkillsNetwork-ML0101EN-SkillUp/labs/ML-FinalAssignment/Weather_Data.csv')\n",
    "\n",
    "df.head()"
   ]
  },
  {
   "cell_type": "markdown",
   "metadata": {},
   "source": [
    "### Data Preprocessing\n"
   ]
  },
  {
   "cell_type": "markdown",
   "metadata": {},
   "source": [
    "#### Transforming Categorical Variables\n"
   ]
  },
  {
   "cell_type": "markdown",
   "metadata": {},
   "source": [
    "First, we need to convert categorical variables to binary variables. We will use pandas `get_dummies()` method for this.\n"
   ]
  },
  {
   "cell_type": "code",
   "execution_count": 4,
   "metadata": {},
   "outputs": [],
   "source": [
    "df_sydney_processed = pd.get_dummies(data=df, columns=['RainToday', 'WindGustDir', 'WindDir9am', 'WindDir3pm'])"
   ]
  },
  {
   "cell_type": "markdown",
   "metadata": {},
   "source": [
    "Next, we replace the values of the 'RainTomorrow' column changing them from a categorical column to a binary column. We do not use the `get_dummies` method because we would end up with two columns for 'RainTomorrow' and we do not want, since 'RainTomorrow' is our target.\n"
   ]
  },
  {
   "cell_type": "code",
   "execution_count": 5,
   "metadata": {},
   "outputs": [],
   "source": [
    "df_sydney_processed.replace(['No', 'Yes'], [0,1], inplace=True)"
   ]
  },
  {
   "cell_type": "markdown",
   "metadata": {},
   "source": [
    "### Training Data and Test Data\n"
   ]
  },
  {
   "cell_type": "markdown",
   "metadata": {},
   "source": [
    "Now, we set our 'features' or x values and our Y or target variable.\n"
   ]
  },
  {
   "cell_type": "code",
   "execution_count": 6,
   "metadata": {},
   "outputs": [],
   "source": [
    "df_sydney_processed.drop('Date',axis=1,inplace=True)"
   ]
  },
  {
   "cell_type": "code",
   "execution_count": 7,
   "metadata": {},
   "outputs": [],
   "source": [
    "df_sydney_processed = df_sydney_processed.astype(float)"
   ]
  },
  {
   "cell_type": "code",
   "execution_count": 8,
   "metadata": {},
   "outputs": [],
   "source": [
    "features = df_sydney_processed.drop(columns='RainTomorrow', axis=1)\n",
    "Y = df_sydney_processed['RainTomorrow']"
   ]
  },
  {
   "cell_type": "markdown",
   "metadata": {},
   "source": [
    "### Linear Regression\n"
   ]
  },
  {
   "cell_type": "markdown",
   "metadata": {},
   "source": [
    "#### Q1) Use the `train_test_split` function to split the `features` and `Y` dataframes with a `test_size` of `0.2` and the `random_state` set to `10`.\n"
   ]
  },
  {
   "cell_type": "code",
   "execution_count": 9,
   "metadata": {},
   "outputs": [],
   "source": [
    "#Enter Your Code, Execute and take the Screenshot\n",
    "from sklearn.model_selection import train_test_split"
   ]
  },
  {
   "cell_type": "code",
   "execution_count": 12,
   "metadata": {},
   "outputs": [
    {
     "name": "stdout",
     "output_type": "stream",
     "text": [
      "Train set: (2616, 66) (2616,)\n",
      "Test set: (655, 66) (655,)\n"
     ]
    }
   ],
   "source": [
    "x_train, x_test, y_train, y_test = train_test_split( features, Y, test_size=0.2, random_state=10)\n",
    "print ('Train set:', x_train.shape,  y_train.shape)\n",
    "print ('Test set:', x_test.shape,  y_test.shape)"
   ]
  },
  {
   "cell_type": "markdown",
   "metadata": {},
   "source": [
    "#### Q2) Create and train a Linear Regression model called LinearReg using the training data (`x_train`, `y_train`).\n"
   ]
  },
  {
   "cell_type": "code",
   "execution_count": 14,
   "metadata": {},
   "outputs": [],
   "source": [
    "#Enter Your Code, Execute and take the Screenshot"
   ]
  },
  {
   "cell_type": "code",
   "execution_count": 15,
   "metadata": {},
   "outputs": [],
   "source": [
    "LinearReg = LinearRegression().fit(features, Y)"
   ]
  },
  {
   "cell_type": "markdown",
   "metadata": {},
   "source": [
    "#### Q3) Now use the `predict` method on the testing data (`x_test`) and save it to the array `predictions`.\n"
   ]
  },
  {
   "cell_type": "code",
   "execution_count": 16,
   "metadata": {},
   "outputs": [],
   "source": [
    "#Enter Your Code, Execute and take the Screenshot"
   ]
  },
  {
   "cell_type": "code",
   "execution_count": 20,
   "metadata": {},
   "outputs": [
    {
     "data": {
      "text/plain": [
       "array([ 1.02640152e-01,  2.86207199e-01,  9.73554611e-01,  2.88537979e-01,\n",
       "        1.07322693e-01,  4.84455109e-01,  3.44836235e-01,  8.76478195e-01,\n",
       "        6.83984756e-01,  3.36360931e-02, -3.60002518e-02,  3.12361717e-01,\n",
       "        3.28392029e-01,  1.26443863e-01,  4.97331619e-02,  5.44899940e-01,\n",
       "       -5.82723618e-02,  4.86260414e-01,  7.76948929e-02,  3.96141052e-01,\n",
       "        4.46090698e-02,  9.28186417e-01,  4.87559319e-01,  2.17833519e-01,\n",
       "       -6.36749268e-02,  3.92507553e-01,  5.22153854e-01, -9.17434692e-03,\n",
       "        6.12415314e-01, -1.20320320e-01,  3.96833420e-01,  1.23754501e-01,\n",
       "       -1.06925964e-02,  9.57088470e-02,  5.43962479e-01,  1.07281399e+00,\n",
       "        5.34057617e-03,  5.15197754e-01, -6.08749390e-02,  5.20305634e-02,\n",
       "        2.46896744e-02,  9.04873848e-01,  2.53502846e-01,  4.19077873e-01,\n",
       "        3.04477692e-01,  4.58745956e-01, -2.22339630e-02,  1.81949615e-01,\n",
       "        8.03565979e-01,  1.89483643e-01,  2.28948593e-02, -3.57503891e-02,\n",
       "        2.21595764e-01, -1.66529655e-01, -5.45339584e-02,  2.76851654e-01,\n",
       "        2.97172546e-01,  5.86673737e-01,  5.99101067e-01,  4.28716660e-01,\n",
       "        6.34946823e-02,  1.02495193e-01,  6.60033226e-01,  7.92359352e-01,\n",
       "        9.53960419e-02, -7.36093521e-02,  4.19099808e-01,  7.46545792e-02,\n",
       "        2.17905045e-01,  2.39399910e-01,  2.05249786e-02, -6.14337921e-02,\n",
       "        3.68022919e-01,  1.60932541e-01,  4.33823586e-01, -4.52499390e-02,\n",
       "        2.84293175e-01,  1.98992729e-01, -1.52045250e-01,  7.93745041e-01,\n",
       "        2.89306641e-01,  2.65322685e-01,  2.79156685e-01,  8.73126984e-02,\n",
       "        6.33474350e-01,  1.94454193e-01,  3.82087708e-01,  4.31057930e-01,\n",
       "        3.24657440e-01,  1.35776520e-01,  7.78064728e-02,  9.18312073e-02,\n",
       "       -1.58392906e-01, -1.81566238e-01,  7.12766647e-02,  8.00804138e-01,\n",
       "        6.61983490e-02,  6.49301529e-01,  1.27962112e-01,  1.69576645e-01,\n",
       "        2.96582222e-01,  1.61854744e-01,  1.17349148e+00,  3.65545273e-01,\n",
       "        8.53940010e-01,  5.47012329e-01,  2.09272385e-01,  5.93695641e-01,\n",
       "       -5.31949997e-02,  9.62468147e-01,  5.43275833e-01,  5.00411987e-02,\n",
       "        7.77320862e-02,  9.13267136e-02,  8.52727890e-02,  2.91796684e-01,\n",
       "        5.64934731e-01,  7.38945007e-02,  5.00316620e-02, -2.73323059e-03,\n",
       "        1.24173164e-01, -2.13281631e-01,  6.07357025e-02,  1.38132095e-01,\n",
       "        1.53999329e-01,  1.50184631e-02,  1.37607574e-01,  7.06807137e-01,\n",
       "        2.66803741e-01,  5.46314240e-01,  4.18610573e-01, -3.11126709e-02,\n",
       "        2.94633865e-01,  2.00540543e-01,  2.56497383e-01, -1.59865379e-01,\n",
       "        8.09850693e-02,  4.22093391e-01,  1.37088776e-01,  7.20166206e-01,\n",
       "        3.79255295e-01, -1.21621132e-01,  2.12759018e-01,  3.15876961e-01,\n",
       "        7.03311920e-01,  4.05902863e-02,  1.42933846e-01,  5.17166138e-01,\n",
       "       -3.99570465e-02,  7.83318520e-01,  2.68690109e-01,  4.51692581e-01,\n",
       "       -5.65929413e-02,  3.91530037e-01,  2.14279175e-01,  8.59470367e-02,\n",
       "        2.95355797e-01,  8.29991341e-01,  5.47180176e-02,  1.20862865e+00,\n",
       "        8.37345123e-01,  5.25150299e-02,  1.18827820e-03,  1.69104576e-01,\n",
       "       -8.31413269e-02, -1.09227180e-01, -7.47594833e-02,  3.22265625e-01,\n",
       "        3.54080200e-01,  1.06187820e-01,  9.23693657e-01, -3.54213715e-02,\n",
       "        6.22774124e-01,  7.69672394e-02,  1.18392944e-01,  4.02584076e-01,\n",
       "        2.60963440e-01, -5.55362701e-02,  1.27743721e-01,  4.10308838e-01,\n",
       "        6.01469994e-01,  1.81267738e-01, -3.64446640e-02,  1.04962826e+00,\n",
       "        3.54042053e-02,  9.69982147e-03,  2.79935837e-01, -6.85720444e-02,\n",
       "        2.47268677e-01, -2.47859955e-02,  5.47075272e-02,  2.00815201e-02,\n",
       "        2.76584625e-02,  4.54145432e-01,  2.07673073e-01,  1.88228607e-01,\n",
       "        7.13644028e-02,  2.47974396e-02,  1.68697357e-01,  2.29745865e-01,\n",
       "        5.77546120e-01,  1.54590607e-01,  4.08391953e-01, -3.17287445e-02,\n",
       "        8.11342239e-01,  6.70595169e-02, -3.56750488e-02,  7.99751282e-03,\n",
       "        1.57090187e-01,  1.19316101e-01, -1.26447678e-02,  4.22630310e-01,\n",
       "        6.36234283e-01, -7.36904144e-03,  3.26328278e-02,  3.05824280e-02,\n",
       "       -7.39526749e-02,  2.54549026e-01,  5.39510727e-01, -6.84242249e-02,\n",
       "        8.68355751e-01,  3.27789307e-01,  3.30436707e-01,  6.38961792e-02,\n",
       "       -7.40680695e-02,  2.83757210e-01,  2.87616730e-01,  1.21539116e-01,\n",
       "        3.48941803e-01,  4.40197945e-01,  4.05643463e-01,  7.63750076e-02,\n",
       "        3.02331924e-01,  8.96521568e-01,  4.14966583e-01,  2.92566299e-01,\n",
       "        9.42230225e-04,  7.47361183e-01,  7.22049713e-01,  1.34948730e-01,\n",
       "        8.24005127e-01,  9.88142967e-01,  5.64663887e-01,  3.00113678e-01,\n",
       "        2.23828316e-01, -3.28111649e-02,  2.13288307e-01,  2.24440575e-01,\n",
       "        3.22588921e-01, -1.24737740e-01, -2.70328522e-02,  1.78659439e-01,\n",
       "        1.74233437e-01,  1.74036980e-01, -8.94546509e-03,  1.01340961e+00,\n",
       "        1.99629784e-01,  7.49989510e-01,  5.78801155e-01,  7.14080811e-01,\n",
       "        2.83210754e-01,  3.28674316e-02,  3.56927872e-01,  2.67152786e-02,\n",
       "        2.87738800e-01, -2.41489410e-02,  7.90967941e-02,  1.48019791e-02,\n",
       "        3.54570389e-01,  1.48351669e-01,  2.69187927e-01,  1.29013062e-02,\n",
       "        1.73867226e-01,  7.13158607e-01,  1.42556190e-01,  1.98029518e-01,\n",
       "        5.60547829e-01, -1.57290459e-01,  2.63872147e-01,  2.91389465e-01,\n",
       "        2.80257225e-01,  8.58879089e-02,  9.70170021e-01,  2.20675468e-01,\n",
       "        7.73021698e-01, -3.63502502e-02,  4.48910713e-01,  1.20477676e-02,\n",
       "       -8.30860138e-02,  2.72681236e-01, -2.04948425e-01,  2.02976227e-01,\n",
       "       -1.57756805e-02, -7.85627365e-02,  2.88865089e-01,  9.52434540e-02,\n",
       "        2.49538422e-01,  5.43128967e-01,  5.60131073e-02, -3.70521545e-02,\n",
       "        5.93394279e-01,  4.42218781e-02,  3.14765930e-01,  7.13840485e-01,\n",
       "        1.56002045e-01, -5.89485168e-02,  7.76427269e-01, -2.36456871e-01,\n",
       "        1.07878780e+00,  2.73738861e-01,  8.48368645e-01,  7.32539177e-01,\n",
       "        6.65726662e-01,  3.02085876e-02,  9.63528633e-01,  7.29269028e-01,\n",
       "        4.72522736e-01,  5.46079636e-01,  1.62302971e-01,  2.65922546e-01,\n",
       "       -8.88633728e-02,  3.32633972e-01,  8.65860939e-01, -4.00648117e-02,\n",
       "        2.20598221e-01, -2.51646042e-02, -1.15995407e-02,  3.99894714e-02,\n",
       "        2.36158371e-01,  1.94991112e-01,  8.69627953e-01,  5.55253029e-01,\n",
       "        1.21470451e-01, -4.54921722e-02, -4.09955978e-02,  1.12566948e-01,\n",
       "       -1.37805939e-02,  2.63888359e-01,  1.08337402e-03,  8.73794556e-02,\n",
       "        1.59923553e-01,  1.78874969e-01,  2.48220444e-01,  1.39144897e-01,\n",
       "        3.32632065e-01, -6.91394806e-02,  1.05241776e-01,  1.96900368e-01,\n",
       "        1.18081093e-01, -5.33866882e-03,  2.31281281e-01,  5.81359863e-03,\n",
       "        5.42267799e-01,  4.35214996e-01,  1.87679291e-01,  4.88281250e-04,\n",
       "        4.70909119e-01,  1.79546356e-01,  5.60648918e-01,  6.09610558e-01,\n",
       "        3.24381828e-01,  3.40641022e-01,  4.33318138e-01,  1.61142349e-01,\n",
       "        2.95471191e-01,  7.70392418e-01,  3.85296822e-01,  5.10231972e-01,\n",
       "        5.85945129e-01, -9.31129456e-02,  6.39972687e-02,  3.64349365e-01,\n",
       "        9.81575012e-01,  3.02406311e-01,  5.82745552e-01,  5.35595894e-01,\n",
       "        4.82028008e-01, -1.00784302e-02,  3.60404015e-01,  6.33010864e-02,\n",
       "       -3.93447876e-02,  6.97752953e-01,  1.21962547e-01,  7.87269592e-01,\n",
       "        4.71000671e-01,  5.59997559e-03,  1.22957230e-02,  5.82660675e-01,\n",
       "        4.56485748e-02,  1.15934372e-01, -6.08444214e-03,  1.61254883e-01,\n",
       "        5.22486687e-01, -7.71636963e-02,  1.08376503e-01,  1.83248520e-02,\n",
       "        3.72311592e-01,  2.82711029e-01,  9.35084343e-01,  7.12059021e-01,\n",
       "        3.20041656e-01,  2.57411957e-01,  9.25064087e-03, -5.19084930e-03,\n",
       "       -1.48792267e-02,  1.58802032e-01,  7.75337219e-02,  5.48322678e-01,\n",
       "        1.91795349e-01,  3.23766708e-01,  5.06527901e-01,  4.72882271e-01,\n",
       "        5.99060059e-02,  8.30615997e-01,  4.96329308e-01, -1.17023468e-01,\n",
       "        5.04980087e-01,  1.67531967e-01,  4.35177803e-01,  1.62820816e-01,\n",
       "        2.05503464e-01,  1.30342484e-01,  5.61742783e-02,  7.21426010e-02,\n",
       "        9.84497070e-02,  5.43159485e-01,  7.03697205e-01,  5.36497116e-01,\n",
       "        5.26565552e-01,  5.30290604e-02,  9.06839371e-02, -1.14900589e-01,\n",
       "        5.36802292e-01, -1.50388718e-01,  4.26004410e-01,  9.76087570e-01,\n",
       "        4.17443275e-01, -9.81912613e-02,  8.67179871e-01,  1.95932388e-01,\n",
       "        5.80471039e-01,  3.65203857e-01, -8.49809647e-02,  4.69726562e-01,\n",
       "        7.91472435e-01,  7.73792267e-02,  9.19113159e-02,  2.28309631e-01,\n",
       "        5.41406631e-01,  1.03930473e-01,  4.09976959e-01,  6.36486053e-01,\n",
       "        6.01139069e-02,  2.05413818e-01,  3.72822762e-01,  7.11751938e-01,\n",
       "        1.40879631e-01,  4.01107788e-01,  5.92507362e-01,  4.89017487e-01,\n",
       "        1.35637283e-01,  1.78675652e-01,  2.00949669e-01,  4.80461121e-03,\n",
       "       -4.08153534e-02,  2.63172150e-01,  2.35872269e-01, -6.56938553e-02,\n",
       "        1.37222290e-01,  8.49555016e-01,  5.92605591e-01, -1.07013702e-01,\n",
       "       -5.50603867e-02,  5.50680161e-02,  1.49959564e-01, -9.88807678e-02,\n",
       "        9.62593079e-01,  7.00416565e-02,  3.33980560e-01,  1.70650482e-01,\n",
       "       -8.23574066e-02,  2.29124069e-01,  4.74728584e-01, -2.60829926e-03,\n",
       "        5.16968727e-01,  1.21383667e-01, -1.65032387e-01,  2.55794525e-02,\n",
       "        2.28505135e-01,  3.12426567e-01,  7.46192932e-02, -7.43103027e-03,\n",
       "       -1.08876228e-01,  3.26520920e-01,  5.21836281e-01,  3.29143524e-01,\n",
       "       -4.04863358e-02, -6.56194687e-02,  4.99436378e-01,  5.56573868e-02,\n",
       "        6.77595139e-02,  3.59416962e-01,  3.36424828e-01,  5.38186073e-01,\n",
       "        3.12558174e-01,  3.34230423e-01, -1.88875198e-02,  7.97486305e-01,\n",
       "        5.93076706e-01,  2.20175743e-01,  7.55970001e-01,  4.25293922e-01,\n",
       "        5.97175598e-01,  1.88455582e-01,  3.91387939e-02,  1.06016159e-01,\n",
       "       -8.03642273e-02,  9.97323990e-02, -2.06813812e-02, -3.96270752e-02,\n",
       "        7.37628937e-02,  8.45565796e-02,  6.28252029e-02,  1.86586380e-01,\n",
       "        6.08806610e-02,  6.89464569e-01,  2.42252350e-01,  1.02369308e-01,\n",
       "        1.15337372e-01, -3.63216400e-02,  1.53012276e-01,  5.19416809e-01,\n",
       "        7.60765076e-01,  2.01356888e-01,  5.16258240e-01, -9.53521729e-02,\n",
       "        6.79677010e-01,  7.62763977e-01,  9.06133652e-01,  8.13428879e-01,\n",
       "        2.70076752e-01,  3.03472519e-01,  2.10260391e-01,  7.34156609e-01,\n",
       "        2.18079567e-01,  3.35208893e-01,  8.30322266e-01, -8.90445709e-03,\n",
       "       -1.25045776e-02, -1.51748657e-02,  6.96253777e-01,  2.26194382e-01,\n",
       "        4.29055214e-01,  2.89326668e-01,  2.00674057e-01,  8.43842506e-01,\n",
       "        4.94943619e-01,  6.21602058e-01, -6.49909973e-02,  5.31806946e-02,\n",
       "        8.38975906e-02,  1.94550514e-01,  6.37904167e-01,  3.05287361e-01,\n",
       "        7.05560684e-01,  2.93809891e-01, -1.05661392e-01,  4.70399857e-02,\n",
       "        1.98499680e-01,  5.93281746e-01,  1.20222092e-01,  7.15562820e-01,\n",
       "        3.31130981e-01,  9.60206985e-02,  8.20867538e-01,  9.09614563e-02,\n",
       "       -8.36324692e-02,  4.58030701e-02,  9.38463211e-02,  5.18703461e-01,\n",
       "       -5.62963486e-02,  5.99452972e-01, -2.91719437e-02,  4.50572968e-02,\n",
       "       -1.33590698e-01,  1.97742462e-01,  3.79182816e-01,  4.75104332e-01,\n",
       "        1.69383049e-01,  7.72599220e-01,  2.09283829e-01,  7.16342926e-02,\n",
       "        1.49876595e-01,  1.68625832e-01,  3.85265350e-02,  4.90018845e-01,\n",
       "        1.99229240e-01,  8.60610008e-01,  4.27761078e-01,  2.10231781e-01,\n",
       "        2.01239586e-01,  7.32622147e-02,  7.25134850e-01,  4.65076447e-01,\n",
       "        4.61906433e-01,  1.03355408e-01,  4.66922760e-01, -1.37446404e-01,\n",
       "        1.79921150e-01, -1.17416382e-02,  1.55209541e-01,  9.78555679e-02,\n",
       "        6.15647316e-01,  4.92382050e-02,  1.56552315e-01, -1.10106468e-01,\n",
       "        8.01712036e-01,  3.92692566e-01, -5.50041199e-02,  9.64571953e-01,\n",
       "        5.36368370e-01,  2.17876434e-02,  8.60877991e-01, -4.76427078e-02,\n",
       "        1.90950394e-01,  1.80637360e-01,  4.72755432e-01,  1.65061951e-02,\n",
       "        3.67414474e-01,  1.62363052e-02,  1.61115646e-01, -2.24170685e-02,\n",
       "        5.90227127e-01,  1.91525459e-01,  2.45519638e-01,  2.61531830e-01,\n",
       "        9.18580055e-01,  6.39517784e-01,  1.25646591e-01,  6.40363693e-02,\n",
       "        5.80024719e-02, -2.11868286e-01,  3.10068130e-02,  3.99789810e-02,\n",
       "        9.26570892e-02,  3.26482773e-01,  9.65751648e-01,  7.96380043e-01,\n",
       "        2.49519348e-02,  3.93304825e-02,  3.19540024e-01,  1.82588577e-01,\n",
       "        7.38755226e-01,  1.69068336e-01,  3.40528488e-01])"
      ]
     },
     "execution_count": 20,
     "metadata": {},
     "output_type": "execute_result"
    }
   ],
   "source": [
    "predictions = LinearReg.predict(x_test)\n",
    "predictions"
   ]
  },
  {
   "cell_type": "markdown",
   "metadata": {},
   "source": [
    "#### Q4) Using the `predictions` and the `y_test` dataframe calculate the value for each metric using the appropriate function.\n"
   ]
  },
  {
   "cell_type": "code",
   "execution_count": 31,
   "metadata": {},
   "outputs": [],
   "source": [
    "#Enter Your Code, Execute and take the Screenshot\n",
    "from sklearn.metrics import mean_squared_error\n",
    "from sklearn.metrics import mean_absolute_error\n",
    "from sklearn.metrics import r2_score"
   ]
  },
  {
   "cell_type": "code",
   "execution_count": 43,
   "metadata": {},
   "outputs": [
    {
     "name": "stdout",
     "output_type": "stream",
     "text": [
      "0.250489476618876\n",
      "0.11051846909370654\n",
      "0.45288486334663225\n"
     ]
    }
   ],
   "source": [
    "LinearRegression_MAE = mean_absolute_error(y_test, predictions)\n",
    "print(LinearRegression_MAE)\n",
    "LinearRegression_MSE = mean_squared_error(y_test, predictions)\n",
    "print(LinearRegression_MSE)\n",
    "LinearRegression_R2 = r2_score(y_test, predictions)\n",
    "print(LinearRegression_R2)"
   ]
  },
  {
   "cell_type": "markdown",
   "metadata": {},
   "source": [
    "#### Q5) Show the MAE, MSE, and R2 in a tabular format using data frame for the linear model.\n"
   ]
  },
  {
   "cell_type": "code",
   "execution_count": 44,
   "metadata": {},
   "outputs": [],
   "source": [
    "#Enter Your Code, Execute and take the Screenshot\n",
    "#data = {'Metrics': ['LinearRegression_MAE', 'LinearRegression_MSE', 'LinearRegression_R2'], 'Score': [0.250489476618876, 0.11051846909370654, 0.45288486334663225]} "
   ]
  },
  {
   "cell_type": "code",
   "execution_count": 45,
   "metadata": {},
   "outputs": [],
   "source": [
    "data = {'Metrics': ['LinearRegression_MAE', 'LinearRegression_MSE', 'LinearRegression_R2'], 'Score': [LinearRegression_MAE, LinearRegression_MSE, LinearRegression_R2]} "
   ]
  },
  {
   "cell_type": "code",
   "execution_count": 46,
   "metadata": {},
   "outputs": [
    {
     "data": {
      "text/html": [
       "<div>\n",
       "<style scoped>\n",
       "    .dataframe tbody tr th:only-of-type {\n",
       "        vertical-align: middle;\n",
       "    }\n",
       "\n",
       "    .dataframe tbody tr th {\n",
       "        vertical-align: top;\n",
       "    }\n",
       "\n",
       "    .dataframe thead th {\n",
       "        text-align: right;\n",
       "    }\n",
       "</style>\n",
       "<table border=\"1\" class=\"dataframe\">\n",
       "  <thead>\n",
       "    <tr style=\"text-align: right;\">\n",
       "      <th></th>\n",
       "      <th>Metrics</th>\n",
       "      <th>Score</th>\n",
       "    </tr>\n",
       "  </thead>\n",
       "  <tbody>\n",
       "    <tr>\n",
       "      <th>0</th>\n",
       "      <td>LinearRegression_MAE</td>\n",
       "      <td>0.250489</td>\n",
       "    </tr>\n",
       "    <tr>\n",
       "      <th>1</th>\n",
       "      <td>LinearRegression_MSE</td>\n",
       "      <td>0.110518</td>\n",
       "    </tr>\n",
       "    <tr>\n",
       "      <th>2</th>\n",
       "      <td>LinearRegression_R2</td>\n",
       "      <td>0.452885</td>\n",
       "    </tr>\n",
       "  </tbody>\n",
       "</table>\n",
       "</div>"
      ],
      "text/plain": [
       "                Metrics     Score\n",
       "0  LinearRegression_MAE  0.250489\n",
       "1  LinearRegression_MSE  0.110518\n",
       "2   LinearRegression_R2  0.452885"
      ]
     },
     "execution_count": 46,
     "metadata": {},
     "output_type": "execute_result"
    }
   ],
   "source": [
    "Report = pd.DataFrame(data)\n",
    "Report"
   ]
  },
  {
   "cell_type": "markdown",
   "metadata": {},
   "source": [
    "### KNN\n"
   ]
  },
  {
   "cell_type": "markdown",
   "metadata": {},
   "source": [
    "#### Q6) Create and train a KNN model called KNN using the training data (`x_train`, `y_train`) with the `n_neighbors` parameter set to `4`.\n"
   ]
  },
  {
   "cell_type": "code",
   "execution_count": 47,
   "metadata": {},
   "outputs": [],
   "source": [
    "#Enter Your Code, Execute and take the Screenshot"
   ]
  },
  {
   "cell_type": "code",
   "execution_count": 48,
   "metadata": {},
   "outputs": [],
   "source": [
    "KNN = KNeighborsClassifier(n_neighbors = 4).fit(x_train, y_train)"
   ]
  },
  {
   "cell_type": "markdown",
   "metadata": {},
   "source": [
    "#### Q7) Now use the `predict` method on the testing data (`x_test`) and save it to the array `predictions`.\n"
   ]
  },
  {
   "cell_type": "code",
   "execution_count": 49,
   "metadata": {},
   "outputs": [],
   "source": [
    "#Enter Your Code, Execute and take the Screenshot"
   ]
  },
  {
   "cell_type": "code",
   "execution_count": 50,
   "metadata": {},
   "outputs": [],
   "source": [
    "predictions = KNN.predict(x_test)"
   ]
  },
  {
   "cell_type": "markdown",
   "metadata": {},
   "source": [
    "#### Q8) Using the `predictions` and the `y_test` dataframe calculate the value for each metric using the appropriate function.\n"
   ]
  },
  {
   "cell_type": "code",
   "execution_count": 52,
   "metadata": {},
   "outputs": [],
   "source": [
    "#Enter Your Code, Execute and take the Screenshot"
   ]
  },
  {
   "cell_type": "code",
   "execution_count": 56,
   "metadata": {},
   "outputs": [
    {
     "name": "stdout",
     "output_type": "stream",
     "text": [
      "0.8183206106870229\n",
      "0.4251207729468599\n",
      "0.5966101694915255\n"
     ]
    }
   ],
   "source": [
    "KNN_Accuracy_Score = accuracy_score(y_test,predictions)\n",
    "print(KNN_Accuracy_Score)\n",
    "KNN_JaccardIndex = jaccard_score(y_test,predictions)\n",
    "print(KNN_JaccardIndex)\n",
    "KNN_F1_Score = f1_score(y_test,predictions)\n",
    "print(KNN_F1_Score)"
   ]
  },
  {
   "cell_type": "markdown",
   "metadata": {},
   "source": [
    "### Decision Tree\n"
   ]
  },
  {
   "cell_type": "markdown",
   "metadata": {},
   "source": [
    "#### Q9) Create and train a Decision Tree model called Tree using the training data (`x_train`, `y_train`).\n"
   ]
  },
  {
   "cell_type": "code",
   "execution_count": 57,
   "metadata": {},
   "outputs": [],
   "source": [
    "#Enter Your Code, Execute and take the Screenshot"
   ]
  },
  {
   "cell_type": "code",
   "execution_count": 58,
   "metadata": {},
   "outputs": [],
   "source": [
    "Tree = DecisionTreeClassifier(criterion = 'entropy', max_depth = 9).fit(x_train, y_train)"
   ]
  },
  {
   "cell_type": "markdown",
   "metadata": {},
   "source": [
    "#### Q10) Now use the `predict` method on the testing data (`x_test`) and save it to the array `predictions`.\n"
   ]
  },
  {
   "cell_type": "code",
   "execution_count": 60,
   "metadata": {},
   "outputs": [],
   "source": [
    "#Enter Your Code, Execute and take the Screenshot"
   ]
  },
  {
   "cell_type": "code",
   "execution_count": 61,
   "metadata": {},
   "outputs": [],
   "source": [
    "predictions = Tree.predict(x_test)"
   ]
  },
  {
   "cell_type": "markdown",
   "metadata": {},
   "source": [
    "#### Q11) Using the `predictions` and the `y_test` dataframe calculate the value for each metric using the appropriate function.\n"
   ]
  },
  {
   "cell_type": "code",
   "execution_count": 62,
   "metadata": {},
   "outputs": [],
   "source": [
    "#Enter Your Code, Execute and take the Screenshot"
   ]
  },
  {
   "cell_type": "code",
   "execution_count": 65,
   "metadata": {},
   "outputs": [
    {
     "name": "stdout",
     "output_type": "stream",
     "text": [
      "0.7908396946564885\n",
      "0.41702127659574467\n",
      "0.5885885885885885\n"
     ]
    }
   ],
   "source": [
    "Tree_Accuracy_Score = accuracy_score(y_test,predictions)\n",
    "print(Tree_Accuracy_Score)\n",
    "Tree_JaccardIndex = jaccard_score(y_test,predictions)\n",
    "print(Tree_JaccardIndex)\n",
    "Tree_F1_Score = f1_score(y_test,predictions)\n",
    "print(Tree_F1_Score)"
   ]
  },
  {
   "cell_type": "markdown",
   "metadata": {},
   "source": [
    "### Logistic Regression\n"
   ]
  },
  {
   "cell_type": "markdown",
   "metadata": {},
   "source": [
    "#### Q12) Use the `train_test_split` function to split the `features` and `Y` dataframes with a `test_size` of `0.2` and the `random_state` set to `1`.\n"
   ]
  },
  {
   "cell_type": "code",
   "execution_count": 67,
   "metadata": {},
   "outputs": [],
   "source": [
    "#Enter Your Code, Execute and take the Screenshot"
   ]
  },
  {
   "cell_type": "code",
   "execution_count": 68,
   "metadata": {},
   "outputs": [],
   "source": [
    "x_train, x_test, y_train, y_test = train_test_split( features, Y, test_size=0.2, random_state=1)"
   ]
  },
  {
   "cell_type": "markdown",
   "metadata": {},
   "source": [
    "#### Q13) Create and train a LogisticRegression model called LR using the training data (`x_train`, `y_train`) with the `solver` parameter set to `liblinear`.\n"
   ]
  },
  {
   "cell_type": "code",
   "execution_count": 69,
   "metadata": {},
   "outputs": [],
   "source": [
    "#Enter Your Code, Execute and take the Screenshot"
   ]
  },
  {
   "cell_type": "code",
   "execution_count": 71,
   "metadata": {},
   "outputs": [],
   "source": [
    "LR = LogisticRegression(C = 0.01).fit(x_train, y_train)"
   ]
  },
  {
   "cell_type": "markdown",
   "metadata": {},
   "source": [
    "#### Q14) Now, use the `predict` method on the testing data (`x_test`) and save it to the array `predictions`.\n"
   ]
  },
  {
   "cell_type": "code",
   "execution_count": 72,
   "metadata": {},
   "outputs": [],
   "source": [
    "#Enter Your Code, Execute and take the Screenshot"
   ]
  },
  {
   "cell_type": "code",
   "execution_count": 73,
   "metadata": {},
   "outputs": [],
   "source": [
    "predictions = LR.predict(x_test)"
   ]
  },
  {
   "cell_type": "markdown",
   "metadata": {},
   "source": [
    "#### Q15) Using the `predictions` and the `y_test` dataframe calculate the value for each metric using the appropriate function.\n"
   ]
  },
  {
   "cell_type": "code",
   "execution_count": 74,
   "metadata": {},
   "outputs": [],
   "source": [
    "#Enter Your Code, Execute and take the Screenshot"
   ]
  },
  {
   "cell_type": "code",
   "execution_count": 76,
   "metadata": {},
   "outputs": [
    {
     "name": "stdout",
     "output_type": "stream",
     "text": [
      "0.8229007633587786\n",
      "0.46788990825688076\n",
      "0.6375\n",
      "6.116834881400194\n"
     ]
    }
   ],
   "source": [
    "LR_Accuracy_Score = accuracy_score(y_test,predictions)\n",
    "print(LR_Accuracy_Score)\n",
    "LR_JaccardIndex = jaccard_score(y_test,predictions)\n",
    "print(LR_JaccardIndex)\n",
    "LR_F1_Score = f1_score(y_test,predictions)\n",
    "print(LR_F1_Score)\n",
    "LR_Log_Loss = log_loss(y_test,predictions)\n",
    "print(LR_Log_Loss)"
   ]
  },
  {
   "cell_type": "markdown",
   "metadata": {},
   "source": [
    "### SVM\n"
   ]
  },
  {
   "cell_type": "markdown",
   "metadata": {},
   "source": [
    "#### Q16) Create and train a SVM model called SVM using the training data (`x_train`, `y_train`).\n"
   ]
  },
  {
   "cell_type": "code",
   "execution_count": 77,
   "metadata": {},
   "outputs": [],
   "source": [
    "#Enter Your Code, Execute and take the Screenshot"
   ]
  },
  {
   "cell_type": "code",
   "execution_count": 85,
   "metadata": {},
   "outputs": [],
   "source": [
    "SVM = svm.SVC( kernel = 'sigmoid').fit(x_train,y_train)"
   ]
  },
  {
   "cell_type": "markdown",
   "metadata": {},
   "source": [
    "#### Q17) Now use the `predict` method on the testing data (`x_test`) and save it to the array `predictions`.\n"
   ]
  },
  {
   "cell_type": "code",
   "execution_count": 86,
   "metadata": {},
   "outputs": [],
   "source": [
    "#Enter Your Code, Execute and take the Screenshot"
   ]
  },
  {
   "cell_type": "code",
   "execution_count": 87,
   "metadata": {},
   "outputs": [],
   "source": [
    "predictions = SVM.predict(x_test)"
   ]
  },
  {
   "cell_type": "markdown",
   "metadata": {},
   "source": [
    "#### Q18) Using the `predictions` and the `y_test` dataframe calculate the value for each metric using the appropriate function.\n"
   ]
  },
  {
   "cell_type": "code",
   "execution_count": 88,
   "metadata": {},
   "outputs": [
    {
     "name": "stdout",
     "output_type": "stream",
     "text": [
      "0.7221374045801526\n",
      "0.0\n",
      "0.0\n"
     ]
    }
   ],
   "source": [
    "SVM_Accuracy_Score = accuracy_score(y_test,predictions)\n",
    "print(SVM_Accuracy_Score)\n",
    "SVM_JaccardIndex = jaccard_score(y_test,predictions)\n",
    "print(SVM_JaccardIndex)\n",
    "SVM_F1_Score = f1_score(y_test,predictions)\n",
    "print(SVM_F1_Score)"
   ]
  },
  {
   "cell_type": "markdown",
   "metadata": {},
   "source": [
    "### Report\n"
   ]
  },
  {
   "cell_type": "markdown",
   "metadata": {},
   "source": [
    "#### Q19) Show the Accuracy,Jaccard Index,F1-Score and LogLoss in a tabular format using data frame for all of the above models.\n",
    "\n",
    "\\*LogLoss is only for Logistic Regression Model\n"
   ]
  },
  {
   "cell_type": "code",
   "execution_count": 89,
   "metadata": {},
   "outputs": [],
   "source": [
    "#Enter Your Code, Execute and take the Screenshot"
   ]
  },
  {
   "cell_type": "code",
   "execution_count": 92,
   "metadata": {},
   "outputs": [],
   "source": [
    "data = {'Algorithm': ['KNN', 'Decision Tree','SVM', 'Logistic Regression'], \n",
    "        'Accuracy': [KNN_Accuracy_Score, Tree_Accuracy_Score, SVM_Accuracy_Score, LR_Accuracy_Score],\n",
    "       'Jaccard': [KNN_JaccardIndex, Tree_JaccardIndex, SVM_JaccardIndex, LR_JaccardIndex],\n",
    "       'F1 Score': [KNN_F1_Score, Tree_F1_Score, SVM_F1_Score, LR_F1_Score],\n",
    "       'Log_Loss': [0, 0, 0, LR_Log_Loss]} "
   ]
  },
  {
   "cell_type": "code",
   "execution_count": 94,
   "metadata": {},
   "outputs": [
    {
     "data": {
      "text/html": [
       "<div>\n",
       "<style scoped>\n",
       "    .dataframe tbody tr th:only-of-type {\n",
       "        vertical-align: middle;\n",
       "    }\n",
       "\n",
       "    .dataframe tbody tr th {\n",
       "        vertical-align: top;\n",
       "    }\n",
       "\n",
       "    .dataframe thead th {\n",
       "        text-align: right;\n",
       "    }\n",
       "</style>\n",
       "<table border=\"1\" class=\"dataframe\">\n",
       "  <thead>\n",
       "    <tr style=\"text-align: right;\">\n",
       "      <th></th>\n",
       "      <th>Algorithm</th>\n",
       "      <th>Accuracy</th>\n",
       "      <th>Jaccard</th>\n",
       "      <th>F1 Score</th>\n",
       "      <th>Log_Loss</th>\n",
       "    </tr>\n",
       "  </thead>\n",
       "  <tbody>\n",
       "    <tr>\n",
       "      <th>0</th>\n",
       "      <td>KNN</td>\n",
       "      <td>0.818321</td>\n",
       "      <td>0.425121</td>\n",
       "      <td>0.596610</td>\n",
       "      <td>0.000000</td>\n",
       "    </tr>\n",
       "    <tr>\n",
       "      <th>1</th>\n",
       "      <td>Decision Tree</td>\n",
       "      <td>0.790840</td>\n",
       "      <td>0.417021</td>\n",
       "      <td>0.588589</td>\n",
       "      <td>0.000000</td>\n",
       "    </tr>\n",
       "    <tr>\n",
       "      <th>2</th>\n",
       "      <td>SVM</td>\n",
       "      <td>0.722137</td>\n",
       "      <td>0.000000</td>\n",
       "      <td>0.000000</td>\n",
       "      <td>0.000000</td>\n",
       "    </tr>\n",
       "    <tr>\n",
       "      <th>3</th>\n",
       "      <td>Logistic Regression</td>\n",
       "      <td>0.822901</td>\n",
       "      <td>0.467890</td>\n",
       "      <td>0.637500</td>\n",
       "      <td>6.116835</td>\n",
       "    </tr>\n",
       "  </tbody>\n",
       "</table>\n",
       "</div>"
      ],
      "text/plain": [
       "             Algorithm  Accuracy   Jaccard  F1 Score  Log_Loss\n",
       "0                  KNN  0.818321  0.425121  0.596610  0.000000\n",
       "1        Decision Tree  0.790840  0.417021  0.588589  0.000000\n",
       "2                  SVM  0.722137  0.000000  0.000000  0.000000\n",
       "3  Logistic Regression  0.822901  0.467890  0.637500  6.116835"
      ]
     },
     "execution_count": 94,
     "metadata": {},
     "output_type": "execute_result"
    }
   ],
   "source": [
    "Report = pd.DataFrame(data)\n",
    "Report"
   ]
  },
  {
   "cell_type": "markdown",
   "metadata": {},
   "source": [
    "<h2 id=\"Section_5\">  How to submit </h2>\n",
    "\n",
    "<p>Once you complete your notebook you will have to share it. You can download the notebook by navigating to \"File\" and clicking on \"Download\" button.\n",
    "\n",
    "<p>This will save the (.ipynb) file on your computer. Once saved, you can upload this file in the \"My Submission\" tab, of the \"Peer-graded Assignment\" section.  \n"
   ]
  },
  {
   "cell_type": "markdown",
   "metadata": {},
   "source": [
    "<h2>About the Authors:</h2> \n",
    "\n",
    "<a href=\"https://www.linkedin.com/in/joseph-s-50398b136/?utm_medium=Exinfluencer&utm_source=Exinfluencer&utm_content=000026UJ&utm_term=10006555&utm_id=NA-SkillsNetwork-Channel-SkillsNetworkCoursesIBMDeveloperSkillsNetworkML0101ENSkillsNetwork20718538-2022-01-01\">Joseph Santarcangelo</a> has a PhD in Electrical Engineering, his research focused on using machine learning, signal processing, and computer vision to determine how videos impact human cognition. Joseph has been working for IBM since he completed his PhD.\n",
    "\n",
    "### Other Contributors\n",
    "\n",
    "<a href=\"https://www.linkedin.com/in/birlahimanshu/?utm_medium=Exinfluencer&utm_source=Exinfluencer&utm_content=000026UJ&utm_term=10006555&utm_id=NA-SkillsNetwork-Channel-SkillsNetworkCoursesIBMDeveloperSkillsNetworkML0101ENSkillsNetwork20718538-2022-01-01\" target=\"_blank\">Himanshu Birla</a>\n"
   ]
  },
  {
   "cell_type": "markdown",
   "metadata": {},
   "source": [
    "## Change Log\n",
    "\n",
    "| Date (YYYY-MM-DD) | Version | Changed By    | Change Description          |\n",
    "| ----------------- | ------- | ------------- | --------------------------- |\n",
    "| 2020-08-27        | 1.0     | Malika Singla | Added lab to GitLab         |\n",
    "| 2022-06-22        | 2.0     | Lana K.       | Deleted GridSearch and Mock |\n",
    "| <hr>              |         |               |                             |\n",
    "\n",
    "## <h3 align=\"center\"> © IBM Corporation 2020. All rights reserved. <h3/>\n"
   ]
  }
 ],
 "metadata": {
  "kernelspec": {
   "display_name": "Python 3 (ipykernel)",
   "language": "python",
   "name": "python3"
  },
  "language_info": {
   "codemirror_mode": {
    "name": "ipython",
    "version": 3
   },
   "file_extension": ".py",
   "mimetype": "text/x-python",
   "name": "python",
   "nbconvert_exporter": "python",
   "pygments_lexer": "ipython3",
   "version": "3.8.12"
  }
 },
 "nbformat": 4,
 "nbformat_minor": 4
}
